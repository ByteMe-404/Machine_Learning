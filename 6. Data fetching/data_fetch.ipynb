{
  "nbformat": 4,
  "nbformat_minor": 0,
  "metadata": {
    "colab": {
      "provenance": []
    },
    "kernelspec": {
      "name": "python3",
      "display_name": "Python 3"
    },
    "language_info": {
      "name": "python"
    }
  },
  "cells": [
    {
      "cell_type": "code",
      "source": [
        "# 📌 1. Fetching Data from a CSV File\n",
        "import pandas as pd\n",
        "\n",
        "# Load CSV\n",
        "df_csv = pd.read_csv(\"https://raw.githubusercontent.com/mwaskom/seaborn-data/master/iris.csv\")\n",
        "print(\"✅ CSV Data Loaded\")\n",
        "print(df_csv.head())\n"
      ],
      "metadata": {
        "colab": {
          "base_uri": "https://localhost:8080/"
        },
        "id": "3SntaTpbEXGF",
        "outputId": "ec2fca03-b764-4cb8-faca-373a99161422"
      },
      "execution_count": 4,
      "outputs": [
        {
          "output_type": "stream",
          "name": "stdout",
          "text": [
            "✅ CSV Data Loaded\n",
            "   sepal_length  sepal_width  petal_length  petal_width species\n",
            "0           5.1          3.5           1.4          0.2  setosa\n",
            "1           4.9          3.0           1.4          0.2  setosa\n",
            "2           4.7          3.2           1.3          0.2  setosa\n",
            "3           4.6          3.1           1.5          0.2  setosa\n",
            "4           5.0          3.6           1.4          0.2  setosa\n"
          ]
        }
      ]
    },
    {
      "cell_type": "code",
      "source": [
        "# 📌 3. Fetching Data from SQL Database\n",
        "import sqlite3\n",
        "\n",
        "# Create in-memory database\n",
        "conn = sqlite3.connect(\":memory:\")\n",
        "\n",
        "# Create sample table\n",
        "conn.execute(\"CREATE TABLE students (id INTEGER, name TEXT, score INTEGER)\")\n",
        "conn.execute(\"INSERT INTO students VALUES (1, 'Alice', 85), (2, 'Bob', 90), (3, 'Charlie', 78)\")\n",
        "\n",
        "# Fetch into pandas\n",
        "df_sql = pd.read_sql_query(\"SELECT * FROM students\", conn)\n",
        "print(\"✅ SQL Data Loaded\")\n",
        "print(df_sql)\n"
      ],
      "metadata": {
        "colab": {
          "base_uri": "https://localhost:8080/"
        },
        "id": "ND6PO62Pbsxg",
        "outputId": "ce5bb3f9-e1c7-43b2-8b77-596ca2f719c5"
      },
      "execution_count": 7,
      "outputs": [
        {
          "output_type": "stream",
          "name": "stdout",
          "text": [
            "✅ SQL Data Loaded\n",
            "   id     name  score\n",
            "0   1    Alice     85\n",
            "1   2      Bob     90\n",
            "2   3  Charlie     78\n"
          ]
        }
      ]
    },
    {
      "cell_type": "code",
      "source": [
        "# 📌 4. Fetching Data from an API\n",
        "import requests\n",
        "\n",
        "url = \"https://jsonplaceholder.typicode.com/posts\"  # Sample public API\n",
        "response = requests.get(url)\n",
        "\n",
        "if response.status_code == 200:\n",
        "    data_api = response.json()\n",
        "    df_api = pd.DataFrame(data_api)\n",
        "    print(\"✅ API Data Loaded\")\n",
        "    print(df_api.head())\n",
        "else:\n",
        "    print(\"❌ Failed to fetch API data\")\n"
      ],
      "metadata": {
        "colab": {
          "base_uri": "https://localhost:8080/"
        },
        "id": "i5vGQeWZcHVm",
        "outputId": "cb1b829f-a3b1-484a-f177-19be2160d2de"
      },
      "execution_count": 10,
      "outputs": [
        {
          "output_type": "stream",
          "name": "stdout",
          "text": [
            "✅ API Data Loaded\n",
            "   userId  id                                              title  \\\n",
            "0       1   1  sunt aut facere repellat provident occaecati e...   \n",
            "1       1   2                                       qui est esse   \n",
            "2       1   3  ea molestias quasi exercitationem repellat qui...   \n",
            "3       1   4                               eum et est occaecati   \n",
            "4       1   5                                 nesciunt quas odio   \n",
            "\n",
            "                                                body  \n",
            "0  quia et suscipit\\nsuscipit recusandae consequu...  \n",
            "1  est rerum tempore vitae\\nsequi sint nihil repr...  \n",
            "2  et iusto sed quo iure\\nvoluptatem occaecati om...  \n",
            "3  ullam et saepe reiciendis voluptatem adipisci\\...  \n",
            "4  repudiandae veniam quaerat sunt sed\\nalias aut...  \n"
          ]
        }
      ]
    }
  ]
}