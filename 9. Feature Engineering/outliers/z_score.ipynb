{
  "cells": [
    {
      "cell_type": "code",
      "execution_count": 23,
      "metadata": {
        "id": "HVysIr9vKgP8"
      },
      "outputs": [],
      "source": [
        "import seaborn as sn\n",
        "import pandas as pd\n",
        "import matplotlib.pyplot as plt\n",
        "import kagglehub"
      ]
    },
    {
      "cell_type": "code",
      "execution_count": 51,
      "metadata": {
        "colab": {
          "base_uri": "https://localhost:8080/"
        },
        "id": "qrN9UM93dJOJ",
        "outputId": "6750bcbb-0ee4-4c10-88e8-a354939e32e8"
      },
      "outputs": [
        {
          "output_type": "execute_result",
          "data": {
            "text/plain": [
              "np.int64(714)"
            ]
          },
          "metadata": {},
          "execution_count": 51
        }
      ],
      "source": [
        "df = pd.read_csv('Titanic-Dataset.csv')\n",
        "df['Age'].value_counts().sum()"
      ]
    },
    {
      "cell_type": "markdown",
      "source": [
        "# Outlier detection\n"
      ],
      "metadata": {
        "id": "d6wFv9SmaiT0"
      }
    },
    {
      "cell_type": "code",
      "source": [
        "mean= df['Age'].mean()\n",
        "std = df['Age'].std()\n",
        "\n",
        "df['z_score'] = (df['Age'] - mean)/std\n",
        "threshold = 3\n",
        "outliers = df[df['z_score'].abs() > threshold]\n",
        "outliers.shape"
      ],
      "metadata": {
        "colab": {
          "base_uri": "https://localhost:8080/"
        },
        "id": "suHoo-DkZ9k7",
        "outputId": "484654b2-9035-445f-ba44-e789f00d44c6"
      },
      "execution_count": 52,
      "outputs": [
        {
          "output_type": "execute_result",
          "data": {
            "text/plain": [
              "(2, 13)"
            ]
          },
          "metadata": {},
          "execution_count": 52
        }
      ]
    },
    {
      "cell_type": "markdown",
      "source": [
        "# Remvoing outliers (Trimming)\n"
      ],
      "metadata": {
        "id": "NX61xgGLapTl"
      }
    },
    {
      "cell_type": "code",
      "source": [
        "df_trimmed = df[df['z_score']<=3].copy()\n",
        "df_trimmed.shape"
      ],
      "metadata": {
        "colab": {
          "base_uri": "https://localhost:8080/"
        },
        "id": "c5oSTXsbauLK",
        "outputId": "a9cdfe0f-b72f-4118-88d4-75a5c8b87e46"
      },
      "execution_count": 53,
      "outputs": [
        {
          "output_type": "execute_result",
          "data": {
            "text/plain": [
              "(712, 13)"
            ]
          },
          "metadata": {},
          "execution_count": 53
        }
      ]
    },
    {
      "cell_type": "markdown",
      "source": [
        "# Capping"
      ],
      "metadata": {
        "id": "ojt4LGFwbZNM"
      }
    },
    {
      "cell_type": "code",
      "source": [
        "lower_cap = mean - threshold * std\n",
        "upper_cap = mean + threshold * std\n",
        "df['value_capped'] = df['Age'].clip(lower_cap,upper_cap)"
      ],
      "metadata": {
        "id": "mYKmXwPabagq"
      },
      "execution_count": 56,
      "outputs": []
    }
  ],
  "metadata": {
    "colab": {
      "provenance": []
    },
    "kernelspec": {
      "display_name": "Python 3",
      "name": "python3"
    },
    "language_info": {
      "name": "python"
    }
  },
  "nbformat": 4,
  "nbformat_minor": 0
}